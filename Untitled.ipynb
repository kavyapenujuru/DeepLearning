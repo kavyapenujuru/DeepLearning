{
 "cells": [
  {
   "cell_type": "code",
   "execution_count": 1,
   "metadata": {},
   "outputs": [
    {
     "name": "stderr",
     "output_type": "stream",
     "text": [
      "Using TensorFlow backend.\n",
      "C:\\Users\\pkavya\\AppData\\Local\\Continuum\\anaconda3\\lib\\site-packages\\tensorflow\\python\\framework\\dtypes.py:526: FutureWarning: Passing (type, 1) or '1type' as a synonym of type is deprecated; in a future version of numpy, it will be understood as (type, (1,)) / '(1,)type'.\n",
      "  _np_qint8 = np.dtype([(\"qint8\", np.int8, 1)])\n",
      "C:\\Users\\pkavya\\AppData\\Local\\Continuum\\anaconda3\\lib\\site-packages\\tensorflow\\python\\framework\\dtypes.py:527: FutureWarning: Passing (type, 1) or '1type' as a synonym of type is deprecated; in a future version of numpy, it will be understood as (type, (1,)) / '(1,)type'.\n",
      "  _np_quint8 = np.dtype([(\"quint8\", np.uint8, 1)])\n",
      "C:\\Users\\pkavya\\AppData\\Local\\Continuum\\anaconda3\\lib\\site-packages\\tensorflow\\python\\framework\\dtypes.py:528: FutureWarning: Passing (type, 1) or '1type' as a synonym of type is deprecated; in a future version of numpy, it will be understood as (type, (1,)) / '(1,)type'.\n",
      "  _np_qint16 = np.dtype([(\"qint16\", np.int16, 1)])\n",
      "C:\\Users\\pkavya\\AppData\\Local\\Continuum\\anaconda3\\lib\\site-packages\\tensorflow\\python\\framework\\dtypes.py:529: FutureWarning: Passing (type, 1) or '1type' as a synonym of type is deprecated; in a future version of numpy, it will be understood as (type, (1,)) / '(1,)type'.\n",
      "  _np_quint16 = np.dtype([(\"quint16\", np.uint16, 1)])\n",
      "C:\\Users\\pkavya\\AppData\\Local\\Continuum\\anaconda3\\lib\\site-packages\\tensorflow\\python\\framework\\dtypes.py:530: FutureWarning: Passing (type, 1) or '1type' as a synonym of type is deprecated; in a future version of numpy, it will be understood as (type, (1,)) / '(1,)type'.\n",
      "  _np_qint32 = np.dtype([(\"qint32\", np.int32, 1)])\n",
      "C:\\Users\\pkavya\\AppData\\Local\\Continuum\\anaconda3\\lib\\site-packages\\tensorflow\\python\\framework\\dtypes.py:535: FutureWarning: Passing (type, 1) or '1type' as a synonym of type is deprecated; in a future version of numpy, it will be understood as (type, (1,)) / '(1,)type'.\n",
      "  np_resource = np.dtype([(\"resource\", np.ubyte, 1)])\n"
     ]
    }
   ],
   "source": [
    "import numpy as np\n",
    "import pandas as pd\n",
    "import matplotlib.pyplot as plt\n",
    "%matplotlib inline\n",
    "\n",
    "from keras.layers import InputLayer, Dense\n",
    "from keras.models import Sequential\n",
    "from keras.optimizers import Adam\n",
    "\n",
    "import os\n",
    "from sklearn.metrics import accuracy_score\n",
    "from tensorflow.keras.preprocessing.image import ImageDataGenerator"
   ]
  },
  {
   "cell_type": "code",
   "execution_count": 3,
   "metadata": {},
   "outputs": [],
   "source": [
    "# create a data generator\n",
    "imgData = ImageDataGenerator()"
   ]
  },
  {
   "cell_type": "code",
   "execution_count": 4,
   "metadata": {},
   "outputs": [
    {
     "name": "stdout",
     "output_type": "stream",
     "text": [
      "Found 1727 images belonging to 2 classes.\n",
      "Found 1727 images belonging to 2 classes.\n",
      "Found 320 images belonging to 2 classes.\n"
     ]
    }
   ],
   "source": [
    "trainData = imgData.flow_from_directory('dataset/train_validate/', class_mode='binary', batch_size=64, target_size = (64,64))\n",
    "validData = imgData.flow_from_directory('dataset/train_validate/', class_mode='binary', batch_size=64, target_size = (64,64))\n",
    "testData = imgData.flow_from_directory('dataset/test/', class_mode='binary', batch_size=64, target_size = (64,64))"
   ]
  },
  {
   "cell_type": "code",
   "execution_count": 22,
   "metadata": {},
   "outputs": [],
   "source": [
    "X_train = []\n",
    "y_train = []\n",
    "X_test = []\n",
    "y_test = []"
   ]
  },
  {
   "cell_type": "code",
   "execution_count": 23,
   "metadata": {},
   "outputs": [],
   "source": [
    "from keras.preprocessing import image\n",
    "directory = \"dataset/train_validate/masked/\"\n",
    "for filename in os.listdir(directory):\n",
    "    img = image.load_img(os.path.join(directory,filename), target_size=(64, 64))\n",
    "    img_data = image.img_to_array(img)\n",
    "    X_train.append(img_data)\n",
    "    y_train.append(1)\n",
    "directory = \"dataset/train_validate/unmasked/\"\n",
    "for filename in os.listdir(directory):\n",
    "    img = image.load_img(os.path.join(directory,filename), target_size=(64, 64))\n",
    "    img_data = image.img_to_array(img)\n",
    "    X_train.append(img_data)\n",
    "    y_train.append(0)\n",
    "directory = \"dataset/test/masked/\"\n",
    "for filename in os.listdir(directory):\n",
    "    img = image.load_img(os.path.join(directory,filename), target_size=(64, 64))\n",
    "    img_data = image.img_to_array(img)\n",
    "    X_test.append(img_data)\n",
    "    y_test.append(1)\n",
    "directory = \"dataset/test/masked/\"\n",
    "for filename in os.listdir(directory):\n",
    "    img = image.load_img(os.path.join(directory,filename), target_size=(64, 64))\n",
    "    img_data = image.img_to_array(img)\n",
    "    X_test.append(img_data)\n",
    "    y_test.append(1)"
   ]
  },
  {
   "cell_type": "code",
   "execution_count": 24,
   "metadata": {},
   "outputs": [],
   "source": [
    "X_train = np.array(X_train)\n",
    "X_test = np.array(X_test)\n",
    "y_train = np.array(y_train)\n",
    "y_test = np.array(y_test)"
   ]
  },
  {
   "cell_type": "code",
   "execution_count": 25,
   "metadata": {},
   "outputs": [],
   "source": [
    "from keras.layers import Conv2D, Flatten, MaxPool2D"
   ]
  },
  {
   "cell_type": "code",
   "execution_count": 26,
   "metadata": {},
   "outputs": [],
   "source": [
    "model = Sequential()\n",
    "model.add(InputLayer(input_shape = (64,64,3)))\n",
    "model.add(Conv2D(64,(3,3),activation = 'relu'))\n",
    "model.add(MaxPool2D(2,2))\n",
    "\n",
    "model.add(Conv2D(64,(3,3),activation = 'relu'))\n",
    "model.add(Conv2D(64,(3,3),activation = 'relu'))\n",
    "model.add(MaxPool2D(2,2))\n",
    "\n",
    "model.add(Flatten())\n",
    "\n",
    "model.add(Dense(units = 100, activation = 'relu'))\n",
    "model.add(Dense(units = 1, activation = 'softmax'))\n"
   ]
  },
  {
   "cell_type": "code",
   "execution_count": 27,
   "metadata": {},
   "outputs": [
    {
     "name": "stdout",
     "output_type": "stream",
     "text": [
      "_________________________________________________________________\n",
      "Layer (type)                 Output Shape              Param #   \n",
      "=================================================================\n",
      "input_2 (InputLayer)         (None, 64, 64, 3)         0         \n",
      "_________________________________________________________________\n",
      "conv2d_4 (Conv2D)            (None, 62, 62, 64)        1792      \n",
      "_________________________________________________________________\n",
      "max_pooling2d_3 (MaxPooling2 (None, 31, 31, 64)        0         \n",
      "_________________________________________________________________\n",
      "conv2d_5 (Conv2D)            (None, 29, 29, 64)        36928     \n",
      "_________________________________________________________________\n",
      "conv2d_6 (Conv2D)            (None, 27, 27, 64)        36928     \n",
      "_________________________________________________________________\n",
      "max_pooling2d_4 (MaxPooling2 (None, 13, 13, 64)        0         \n",
      "_________________________________________________________________\n",
      "flatten_2 (Flatten)          (None, 10816)             0         \n",
      "_________________________________________________________________\n",
      "dense_3 (Dense)              (None, 100)               1081700   \n",
      "_________________________________________________________________\n",
      "dense_4 (Dense)              (None, 1)                 101       \n",
      "=================================================================\n",
      "Total params: 1,157,449\n",
      "Trainable params: 1,157,449\n",
      "Non-trainable params: 0\n",
      "_________________________________________________________________\n"
     ]
    }
   ],
   "source": [
    "model.summary()"
   ]
  },
  {
   "cell_type": "code",
   "execution_count": 28,
   "metadata": {},
   "outputs": [],
   "source": [
    "model.compile(optimizer = \"adam\", loss = \"binary_crossentropy\", metrics = [\"accuracy\"])"
   ]
  },
  {
   "cell_type": "code",
   "execution_count": 43,
   "metadata": {},
   "outputs": [
    {
     "name": "stdout",
     "output_type": "stream",
     "text": [
      "Train on 1727 samples, validate on 320 samples\n",
      "Epoch 1/70\n",
      "1727/1727 [==============================] - 29s 17ms/step - loss: 7.7543 - acc: 0.5136 - val_loss: 1.1921e-07 - val_acc: 1.0000\n",
      "Epoch 2/70\n",
      "1727/1727 [==============================] - 34s 19ms/step - loss: 7.7543 - acc: 0.5136 - val_loss: 1.1921e-07 - val_acc: 1.0000\n",
      "Epoch 3/70\n",
      "1727/1727 [==============================] - 32s 19ms/step - loss: 7.7543 - acc: 0.5136 - val_loss: 1.1921e-07 - val_acc: 1.0000\n",
      "Epoch 4/70\n",
      "1727/1727 [==============================] - 31s 18ms/step - loss: 7.7543 - acc: 0.5136 - val_loss: 1.1921e-07 - val_acc: 1.0000\n",
      "Epoch 5/70\n",
      "1727/1727 [==============================] - 32s 19ms/step - loss: 7.7543 - acc: 0.5136 - val_loss: 1.1921e-07 - val_acc: 1.0000\n",
      "Epoch 6/70\n",
      "1727/1727 [==============================] - 28s 16ms/step - loss: 7.7543 - acc: 0.5136 - val_loss: 1.1921e-07 - val_acc: 1.0000\n",
      "Epoch 7/70\n",
      "1727/1727 [==============================] - 26s 15ms/step - loss: 7.7543 - acc: 0.5136 - val_loss: 1.1921e-07 - val_acc: 1.0000\n",
      "Epoch 8/70\n",
      "1727/1727 [==============================] - 27s 16ms/step - loss: 7.7543 - acc: 0.5136 - val_loss: 1.1921e-07 - val_acc: 1.0000\n",
      "Epoch 9/70\n",
      "1727/1727 [==============================] - 29s 17ms/step - loss: 7.7543 - acc: 0.5136 - val_loss: 1.1921e-07 - val_acc: 1.0000\n",
      "Epoch 10/70\n",
      "1727/1727 [==============================] - 33s 19ms/step - loss: 7.7543 - acc: 0.5136 - val_loss: 1.1921e-07 - val_acc: 1.0000\n",
      "Epoch 11/70\n",
      "1727/1727 [==============================] - 30s 17ms/step - loss: 7.7543 - acc: 0.5136 - val_loss: 1.1921e-07 - val_acc: 1.0000\n",
      "Epoch 12/70\n",
      "1727/1727 [==============================] - 32s 18ms/step - loss: 7.7543 - acc: 0.5136 - val_loss: 1.1921e-07 - val_acc: 1.0000\n",
      "Epoch 13/70\n",
      "1727/1727 [==============================] - 27s 16ms/step - loss: 7.7543 - acc: 0.5136 - val_loss: 1.1921e-07 - val_acc: 1.0000\n",
      "Epoch 14/70\n",
      "1727/1727 [==============================] - 29s 17ms/step - loss: 7.7543 - acc: 0.5136 - val_loss: 1.1921e-07 - val_acc: 1.0000\n",
      "Epoch 15/70\n",
      "1727/1727 [==============================] - 27s 16ms/step - loss: 7.7543 - acc: 0.5136 - val_loss: 1.1921e-07 - val_acc: 1.0000\n",
      "Epoch 16/70\n",
      "1727/1727 [==============================] - 29s 17ms/step - loss: 7.7543 - acc: 0.5136 - val_loss: 1.1921e-07 - val_acc: 1.0000\n",
      "Epoch 17/70\n",
      "1727/1727 [==============================] - 29s 17ms/step - loss: 7.7543 - acc: 0.5136 - val_loss: 1.1921e-07 - val_acc: 1.0000\n",
      "Epoch 18/70\n",
      "1727/1727 [==============================] - 28s 16ms/step - loss: 7.7543 - acc: 0.5136 - val_loss: 1.1921e-07 - val_acc: 1.0000\n",
      "Epoch 19/70\n",
      "1727/1727 [==============================] - 28s 16ms/step - loss: 7.7543 - acc: 0.5136 - val_loss: 1.1921e-07 - val_acc: 1.0000\n",
      "Epoch 20/70\n",
      "1727/1727 [==============================] - 29s 17ms/step - loss: 7.7543 - acc: 0.5136 - val_loss: 1.1921e-07 - val_acc: 1.0000\n",
      "Epoch 21/70\n",
      "1727/1727 [==============================] - 28s 16ms/step - loss: 7.7543 - acc: 0.5136 - val_loss: 1.1921e-07 - val_acc: 1.0000\n",
      "Epoch 22/70\n",
      "1727/1727 [==============================] - 31s 18ms/step - loss: 7.7543 - acc: 0.5136 - val_loss: 1.1921e-07 - val_acc: 1.0000\n",
      "Epoch 23/70\n",
      "1727/1727 [==============================] - 30s 18ms/step - loss: 7.7543 - acc: 0.5136 - val_loss: 1.1921e-07 - val_acc: 1.0000\n",
      "Epoch 24/70\n",
      "1727/1727 [==============================] - 31s 18ms/step - loss: 7.7543 - acc: 0.5136 - val_loss: 1.1921e-07 - val_acc: 1.0000\n",
      "Epoch 25/70\n",
      "1727/1727 [==============================] - 29s 17ms/step - loss: 7.7543 - acc: 0.5136 - val_loss: 1.1921e-07 - val_acc: 1.0000\n",
      "Epoch 26/70\n",
      "1727/1727 [==============================] - 27s 16ms/step - loss: 7.7543 - acc: 0.5136 - val_loss: 1.1921e-07 - val_acc: 1.0000\n",
      "Epoch 27/70\n",
      "1727/1727 [==============================] - 31s 18ms/step - loss: 7.7543 - acc: 0.5136 - val_loss: 1.1921e-07 - val_acc: 1.0000\n",
      "Epoch 28/70\n",
      "1727/1727 [==============================] - 29s 17ms/step - loss: 7.7543 - acc: 0.5136 - val_loss: 1.1921e-07 - val_acc: 1.0000\n",
      "Epoch 29/70\n",
      "1727/1727 [==============================] - 31s 18ms/step - loss: 7.7543 - acc: 0.5136 - val_loss: 1.1921e-07 - val_acc: 1.0000\n",
      "Epoch 30/70\n",
      "1727/1727 [==============================] - 28s 16ms/step - loss: 7.7543 - acc: 0.5136 - val_loss: 1.1921e-07 - val_acc: 1.0000\n",
      "Epoch 31/70\n",
      "1727/1727 [==============================] - 30s 17ms/step - loss: 7.7543 - acc: 0.5136 - val_loss: 1.1921e-07 - val_acc: 1.0000\n",
      "Epoch 32/70\n",
      "1727/1727 [==============================] - 27s 15ms/step - loss: 7.7543 - acc: 0.5136 - val_loss: 1.1921e-07 - val_acc: 1.0000\n",
      "Epoch 33/70\n",
      "1727/1727 [==============================] - 26s 15ms/step - loss: 7.7543 - acc: 0.5136 - val_loss: 1.1921e-07 - val_acc: 1.0000\n",
      "Epoch 34/70\n",
      "1727/1727 [==============================] - 28s 16ms/step - loss: 7.7543 - acc: 0.5136 - val_loss: 1.1921e-07 - val_acc: 1.0000\n",
      "Epoch 35/70\n",
      "1727/1727 [==============================] - 31s 18ms/step - loss: 7.7543 - acc: 0.5136 - val_loss: 1.1921e-07 - val_acc: 1.0000\n",
      "Epoch 36/70\n",
      "1727/1727 [==============================] - 30s 17ms/step - loss: 7.7543 - acc: 0.5136 - val_loss: 1.1921e-07 - val_acc: 1.0000\n",
      "Epoch 37/70\n",
      "1727/1727 [==============================] - 29s 17ms/step - loss: 7.7543 - acc: 0.5136 - val_loss: 1.1921e-07 - val_acc: 1.0000\n",
      "Epoch 38/70\n",
      "1727/1727 [==============================] - 30s 17ms/step - loss: 7.7543 - acc: 0.5136 - val_loss: 1.1921e-07 - val_acc: 1.0000\n",
      "Epoch 39/70\n",
      "1727/1727 [==============================] - 26s 15ms/step - loss: 7.7543 - acc: 0.5136 - val_loss: 1.1921e-07 - val_acc: 1.0000\n",
      "Epoch 40/70\n",
      "1727/1727 [==============================] - 28s 16ms/step - loss: 7.7543 - acc: 0.5136 - val_loss: 1.1921e-07 - val_acc: 1.0000\n",
      "Epoch 41/70\n",
      "1727/1727 [==============================] - 26s 15ms/step - loss: 7.7543 - acc: 0.5136 - val_loss: 1.1921e-07 - val_acc: 1.0000\n",
      "Epoch 42/70\n",
      "1727/1727 [==============================] - 29s 17ms/step - loss: 7.7543 - acc: 0.5136 - val_loss: 1.1921e-07 - val_acc: 1.0000\n",
      "Epoch 43/70\n",
      "1727/1727 [==============================] - 27s 16ms/step - loss: 7.7543 - acc: 0.5136 - val_loss: 1.1921e-07 - val_acc: 1.0000\n",
      "Epoch 44/70\n",
      "1727/1727 [==============================] - 27s 15ms/step - loss: 7.7543 - acc: 0.5136 - val_loss: 1.1921e-07 - val_acc: 1.0000\n",
      "Epoch 45/70\n",
      "1727/1727 [==============================] - 30s 17ms/step - loss: 7.7543 - acc: 0.5136 - val_loss: 1.1921e-07 - val_acc: 1.0000\n",
      "Epoch 46/70\n",
      "1727/1727 [==============================] - 32s 18ms/step - loss: 7.7543 - acc: 0.5136 - val_loss: 1.1921e-07 - val_acc: 1.0000\n",
      "Epoch 47/70\n",
      "1727/1727 [==============================] - 30s 17ms/step - loss: 7.7543 - acc: 0.5136 - val_loss: 1.1921e-07 - val_acc: 1.0000\n",
      "Epoch 48/70\n",
      "1727/1727 [==============================] - 29s 17ms/step - loss: 7.7543 - acc: 0.5136 - val_loss: 1.1921e-07 - val_acc: 1.0000\n",
      "Epoch 49/70\n",
      "1727/1727 [==============================] - 33s 19ms/step - loss: 7.7543 - acc: 0.5136 - val_loss: 1.1921e-07 - val_acc: 1.0000\n",
      "Epoch 50/70\n",
      "1727/1727 [==============================] - 34s 20ms/step - loss: 7.7543 - acc: 0.5136 - val_loss: 1.1921e-07 - val_acc: 1.0000\n",
      "Epoch 51/70\n",
      "1727/1727 [==============================] - 39s 23ms/step - loss: 7.7543 - acc: 0.5136 - val_loss: 1.1921e-07 - val_acc: 1.0000\n",
      "Epoch 52/70\n",
      "1727/1727 [==============================] - 33s 19ms/step - loss: 7.7543 - acc: 0.5136 - val_loss: 1.1921e-07 - val_acc: 1.0000\n",
      "Epoch 53/70\n",
      "1727/1727 [==============================] - 26s 15ms/step - loss: 7.7543 - acc: 0.5136 - val_loss: 1.1921e-07 - val_acc: 1.0000\n",
      "Epoch 54/70\n",
      "1727/1727 [==============================] - 26s 15ms/step - loss: 7.7543 - acc: 0.5136 - val_loss: 1.1921e-07 - val_acc: 1.0000\n",
      "Epoch 55/70\n",
      "1727/1727 [==============================] - 27s 16ms/step - loss: 7.7543 - acc: 0.5136 - val_loss: 1.1921e-07 - val_acc: 1.0000\n",
      "Epoch 56/70\n",
      "1727/1727 [==============================] - 26s 15ms/step - loss: 7.7543 - acc: 0.5136 - val_loss: 1.1921e-07 - val_acc: 1.0000\n",
      "Epoch 57/70\n",
      "1727/1727 [==============================] - 28s 16ms/step - loss: 7.7543 - acc: 0.5136 - val_loss: 1.1921e-07 - val_acc: 1.0000\n",
      "Epoch 58/70\n",
      "1727/1727 [==============================] - 27s 16ms/step - loss: 7.7543 - acc: 0.5136 - val_loss: 1.1921e-07 - val_acc: 1.0000\n"
     ]
    },
    {
     "name": "stdout",
     "output_type": "stream",
     "text": [
      "Epoch 59/70\n",
      "1727/1727 [==============================] - 28s 16ms/step - loss: 7.7543 - acc: 0.5136 - val_loss: 1.1921e-07 - val_acc: 1.0000\n",
      "Epoch 60/70\n",
      "1727/1727 [==============================] - 30s 17ms/step - loss: 7.7543 - acc: 0.5136 - val_loss: 1.1921e-07 - val_acc: 1.0000\n",
      "Epoch 61/70\n",
      "1727/1727 [==============================] - 29s 17ms/step - loss: 7.7543 - acc: 0.5136 - val_loss: 1.1921e-07 - val_acc: 1.0000\n",
      "Epoch 62/70\n",
      "1727/1727 [==============================] - 31s 18ms/step - loss: 7.7543 - acc: 0.5136 - val_loss: 1.1921e-07 - val_acc: 1.0000\n",
      "Epoch 63/70\n",
      "1727/1727 [==============================] - 26s 15ms/step - loss: 7.7543 - acc: 0.5136 - val_loss: 1.1921e-07 - val_acc: 1.0000\n",
      "Epoch 64/70\n",
      "1727/1727 [==============================] - 29s 17ms/step - loss: 7.7543 - acc: 0.5136 - val_loss: 1.1921e-07 - val_acc: 1.0000\n",
      "Epoch 65/70\n",
      "1727/1727 [==============================] - 27s 16ms/step - loss: 7.7543 - acc: 0.5136 - val_loss: 1.1921e-07 - val_acc: 1.0000\n",
      "Epoch 66/70\n",
      "1727/1727 [==============================] - 27s 16ms/step - loss: 7.7543 - acc: 0.5136 - val_loss: 1.1921e-07 - val_acc: 1.0000\n",
      "Epoch 67/70\n",
      "1727/1727 [==============================] - 27s 15ms/step - loss: 7.7543 - acc: 0.5136 - val_loss: 1.1921e-07 - val_acc: 1.0000\n",
      "Epoch 68/70\n",
      "1727/1727 [==============================] - 29s 17ms/step - loss: 7.7543 - acc: 0.5136 - val_loss: 1.1921e-07 - val_acc: 1.0000\n",
      "Epoch 69/70\n",
      "1727/1727 [==============================] - 28s 16ms/step - loss: 7.7543 - acc: 0.5136 - val_loss: 1.1921e-07 - val_acc: 1.0000\n",
      "Epoch 70/70\n",
      "1727/1727 [==============================] - 28s 16ms/step - loss: 7.7543 - acc: 0.5136 - val_loss: 1.1921e-07 - val_acc: 1.0000\n"
     ]
    }
   ],
   "source": [
    "model_history = model.fit(X_train, y_train, epochs=70, batch_size=64,validation_data=(X_test,y_test))"
   ]
  },
  {
   "cell_type": "code",
   "execution_count": 45,
   "metadata": {},
   "outputs": [
    {
     "name": "stdout",
     "output_type": "stream",
     "text": [
      "Accuracy on training set:  0.5136074116965836 %\n"
     ]
    }
   ],
   "source": [
    "print(\"Accuracy on training set: \", accuracy_score(y_train, model.predict_classes(X_train)),'%')"
   ]
  },
  {
   "cell_type": "code",
   "execution_count": 46,
   "metadata": {},
   "outputs": [
    {
     "name": "stdout",
     "output_type": "stream",
     "text": [
      "Accuracy on training set:  1.0 %\n"
     ]
    }
   ],
   "source": [
    "print(\"Accuracy on training set: \", accuracy_score(y_test, model.predict_classes(X_test)),'%')"
   ]
  },
  {
   "cell_type": "code",
   "execution_count": 48,
   "metadata": {},
   "outputs": [
    {
     "data": {
      "image/png": "[encoded data removed]",
      "text/plain": [
       "<Figure size 432x288 with 1 Axes>"
      ]
     },
     "metadata": {
      "needs_background": "light"
     },
     "output_type": "display_data"
    }
   ],
   "source": [
    "# summarize history for loss\n",
    "plt.plot(model_history.history['loss'])\n",
    "plt.plot(model_history.history['val_loss'])\n",
    "plt.title('model loss')\n",
    "plt.ylabel('loss')\n",
    "plt.xlabel('epoch')\n",
    "plt.legend(['train', 'validation'], loc='upper left')\n",
    "plt.show()"
   ]
  },
  {
   "cell_type": "code",
   "execution_count": 49,
   "metadata": {},
   "outputs": [
    {
     "data": {
      "image/png": "[encoded data removed]",
      "text/plain": [
       "<Figure size 432x288 with 1 Axes>"
      ]
     },
     "metadata": {
      "needs_background": "light"
     },
     "output_type": "display_data"
    }
   ],
   "source": [
    "# summarize history for accuracy\n",
    "plt.plot(model_history.history['acc'])\n",
    "plt.plot(model_history.history['val_acc'])\n",
    "plt.title('model accuracy')\n",
    "plt.ylabel('accuracy')\n",
    "plt.xlabel('epoch')\n",
    "plt.legend(['train', 'validation'], loc='upper left')\n",
    "plt.show()"
   ]
  },
  {
   "cell_type": "code",
   "execution_count": 50,
   "metadata": {},
   "outputs": [
    {
     "name": "stdout",
     "output_type": "stream",
     "text": [
      "320/320 [==============================] - 1s 5ms/step\n"
     ]
    }
   ],
   "source": [
    "# testing the model\n",
    "testLoss, testAccuracy = model.evaluate( X_test, y_test)"
   ]
  },
  {
   "cell_type": "code",
   "execution_count": 51,
   "metadata": {},
   "outputs": [
    {
     "name": "stdout",
     "output_type": "stream",
     "text": [
      "Testing loss \t 1.192093321833454e-07\n",
      "Testing accuracy  1.0\n"
     ]
    }
   ],
   "source": [
    "print('Testing loss \\t', testLoss)\n",
    "print('Testing accuracy ', testAccuracy)"
   ]
  },
  {
   "cell_type": "code",
   "execution_count": 52,
   "metadata": {},
   "outputs": [
    {
     "name": "stdout",
     "output_type": "stream",
     "text": [
      "              precision    recall  f1-score   support\n",
      "\n",
      "         1.0       1.00      1.00      1.00       320\n",
      "\n",
      "   micro avg       1.00      1.00      1.00       320\n",
      "   macro avg       1.00      1.00      1.00       320\n",
      "weighted avg       1.00      1.00      1.00       320\n",
      "\n"
     ]
    }
   ],
   "source": [
    "Y_prediction = model.predict(X_test)\n",
    "\n",
    "from sklearn.metrics import classification_report \n",
    "\n",
    "print(classification_report(Y_prediction, y_test))\n"
   ]
  },
  {
   "cell_type": "code",
   "execution_count": 54,
   "metadata": {},
   "outputs": [],
   "source": [
    "from tensorflow.keras import regularizers\n",
    "model = Sequential()\n",
    "model.add(InputLayer(input_shape = (64,64,3)))\n",
    "model.add(Conv2D(64,(3,3),activation = 'relu'))\n",
    "model.add(MaxPool2D(2,2))\n",
    "\n",
    "model.add(Conv2D(64,(3,3),activation = 'relu'))\n",
    "model.add(Conv2D(64,(3,3),activation = 'relu'))\n",
    "model.add(MaxPool2D(2,2))\n",
    "\n",
    "# L1-L2 with Regularizers\n",
    "model.add(Dense(30, activation='relu', \n",
    "                          kernel_regularizer = regularizers.l1_l2(l1=0.01, l2=0.01),\n",
    "                          activity_regularizer = regularizers.l1_l2(l1=0.01, l2=0.01) ) )\n",
    "model.add(Flatten())\n",
    "\n",
    "model.add(Dense(units = 100, activation = 'relu'))\n",
    "model.add(Dense(units = 1, activation = 'softmax'))"
   ]
  },
  {
   "cell_type": "code",
   "execution_count": 55,
   "metadata": {},
   "outputs": [
    {
     "name": "stdout",
     "output_type": "stream",
     "text": [
      "_________________________________________________________________\n",
      "Layer (type)                 Output Shape              Param #   \n",
      "=================================================================\n",
      "input_4 (InputLayer)         (None, 64, 64, 3)         0         \n",
      "_________________________________________________________________\n",
      "conv2d_10 (Conv2D)           (None, 62, 62, 64)        1792      \n",
      "_________________________________________________________________\n",
      "max_pooling2d_7 (MaxPooling2 (None, 31, 31, 64)        0         \n",
      "_________________________________________________________________\n",
      "conv2d_11 (Conv2D)           (None, 29, 29, 64)        36928     \n",
      "_________________________________________________________________\n",
      "conv2d_12 (Conv2D)           (None, 27, 27, 64)        36928     \n",
      "_________________________________________________________________\n",
      "max_pooling2d_8 (MaxPooling2 (None, 13, 13, 64)        0         \n",
      "_________________________________________________________________\n",
      "dense_6 (Dense)              (None, 13, 13, 30)        1950      \n",
      "_________________________________________________________________\n",
      "flatten_5 (Flatten)          (None, 5070)              0         \n",
      "_________________________________________________________________\n",
      "dense_7 (Dense)              (None, 100)               507100    \n",
      "_________________________________________________________________\n",
      "dense_8 (Dense)              (None, 1)                 101       \n",
      "=================================================================\n",
      "Total params: 584,799\n",
      "Trainable params: 584,799\n",
      "Non-trainable params: 0\n",
      "_________________________________________________________________\n"
     ]
    }
   ],
   "source": [
    "model.summary()"
   ]
  },
  {
   "cell_type": "code",
   "execution_count": 56,
   "metadata": {},
   "outputs": [],
   "source": [
    "model.compile(optimizer = \"adam\", loss = \"binary_crossentropy\", metrics = [\"accuracy\"])"
   ]
  },
  {
   "cell_type": "code",
   "execution_count": 57,
   "metadata": {},
   "outputs": [
    {
     "name": "stdout",
     "output_type": "stream",
     "text": [
      "Train on 1727 samples, validate on 320 samples\n",
      "Epoch 1/5\n",
      "1727/1727 [==============================] - 29s 17ms/step - loss: 17625.6729 - acc: 0.5136 - val_loss: 29.3888 - val_acc: 1.0000\n",
      "Epoch 2/5\n",
      "1727/1727 [==============================] - 27s 16ms/step - loss: 13.4233 - acc: 0.5136 - val_loss: 5.3249 - val_acc: 1.0000\n",
      "Epoch 3/5\n",
      "1727/1727 [==============================] - 26s 15ms/step - loss: 11.0384 - acc: 0.5136 - val_loss: 4.2301 - val_acc: 1.0000\n",
      "Epoch 4/5\n",
      "1727/1727 [==============================] - 25s 15ms/step - loss: 10.8712 - acc: 0.5136 - val_loss: 3.8699 - val_acc: 1.0000\n",
      "Epoch 5/5\n",
      "1727/1727 [==============================] - 29s 17ms/step - loss: 10.7878 - acc: 0.5136 - val_loss: 3.6507 - val_acc: 1.0000\n"
     ]
    }
   ],
   "source": [
    "model_history = model.fit(X_train, y_train, epochs=5, batch_size=64,validation_data=(X_test,y_test))"
   ]
  },
  {
   "cell_type": "code",
   "execution_count": 58,
   "metadata": {},
   "outputs": [
    {
     "name": "stdout",
     "output_type": "stream",
     "text": [
      "Accuracy on training set:  0.5136074116965836 %\n"
     ]
    }
   ],
   "source": [
    "print(\"Accuracy on training set: \", accuracy_score(y_train, model.predict_classes(X_train)),'%')"
   ]
  },
  {
   "cell_type": "code",
   "execution_count": 59,
   "metadata": {},
   "outputs": [
    {
     "name": "stdout",
     "output_type": "stream",
     "text": [
      "Accuracy on training set:  1.0 %\n"
     ]
    }
   ],
   "source": [
    "print(\"Accuracy on training set: \", accuracy_score(y_test, model.predict_classes(X_test)),'%')"
   ]
  },
  {
   "cell_type": "code",
   "execution_count": 60,
   "metadata": {},
   "outputs": [
    {
     "data": {
      "image/png": "[encoded data removed]",
      "text/plain": [
       "<Figure size 432x288 with 1 Axes>"
      ]
     },
     "metadata": {
      "needs_background": "light"
     },
     "output_type": "display_data"
    }
   ],
   "source": [
    "# summarize history for loss\n",
    "plt.plot(model_history.history['loss'])\n",
    "plt.plot(model_history.history['val_loss'])\n",
    "plt.title('model loss')\n",
    "plt.ylabel('loss')\n",
    "plt.xlabel('epoch')\n",
    "plt.legend(['train', 'validation'], loc='upper left')\n",
    "plt.show()"
   ]
  },
  {
   "cell_type": "code",
   "execution_count": 61,
   "metadata": {},
   "outputs": [
    {
     "data": {
      "image/png": "[encoded data removed]",
      "text/plain": [
       "<Figure size 432x288 with 1 Axes>"
      ]
     },
     "metadata": {
      "needs_background": "light"
     },
     "output_type": "display_data"
    }
   ],
   "source": [
    "# summarize history for accuracy\n",
    "plt.plot(model_history.history['acc'])\n",
    "plt.plot(model_history.history['val_acc'])\n",
    "plt.title('model accuracy')\n",
    "plt.ylabel('accuracy')\n",
    "plt.xlabel('epoch')\n",
    "plt.legend(['train', 'validation'], loc='upper left')\n",
    "plt.show()"
   ]
  },
  {
   "cell_type": "code",
   "execution_count": 64,
   "metadata": {},
   "outputs": [
    {
     "name": "stdout",
     "output_type": "stream",
     "text": [
      "Confusion Matrix\n",
      "[[320]]\n",
      "Classification Report\n",
      "              precision    recall  f1-score   support\n",
      "\n",
      "           1       1.00      1.00      1.00       320\n",
      "\n",
      "   micro avg       1.00      1.00      1.00       320\n",
      "   macro avg       1.00      1.00      1.00       320\n",
      "weighted avg       1.00      1.00      1.00       320\n",
      "\n"
     ]
    }
   ],
   "source": [
    "from sklearn.metrics import classification_report, confusion_matrix\n",
    "\n",
    "y_pred = model.predict(X_test)\n",
    "print('Confusion Matrix')\n",
    "cm = confusion_matrix(y_test, y_pred)\n",
    "print(cm)\n",
    "print('Classification Report')\n",
    "print(classification_report(y_test, y_pred))"
   ]
  },
  {
   "cell_type": "code",
   "execution_count": null,
   "metadata": {},
   "outputs": [],
   "source": []
  }
 ],
 "metadata": {
  "kernelspec": {
   "display_name": "Python 3",
   "language": "python",
   "name": "python3"
  },
  "language_info": {
   "codemirror_mode": {
    "name": "ipython",
    "version": 3
   },
   "file_extension": ".py",
   "mimetype": "text/x-python",
   "name": "python",
   "nbconvert_exporter": "python",
   "pygments_lexer": "ipython3",
   "version": "3.7.1"
  }
 },
 "nbformat": 4,
 "nbformat_minor": 2
}
